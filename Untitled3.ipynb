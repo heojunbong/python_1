{
 "cells": [
  {
   "cell_type": "code",
   "execution_count": 18,
   "id": "07e5dceb",
   "metadata": {},
   "outputs": [],
   "source": [
    "import pandas as pd"
   ]
  },
  {
   "cell_type": "code",
   "execution_count": 19,
   "id": "c951e387",
   "metadata": {},
   "outputs": [],
   "source": [
    "import requests"
   ]
  },
  {
   "cell_type": "code",
   "execution_count": 20,
   "id": "6fed9b30",
   "metadata": {},
   "outputs": [],
   "source": [
    "from urllib import parse"
   ]
  },
  {
   "cell_type": "code",
   "execution_count": 21,
   "id": "53657545",
   "metadata": {},
   "outputs": [],
   "source": [
    "url = \"http://openapi.kepco.co.kr/service/EvInfoServiceV2/getEvSearchList\"\n",
    "api_key_utf8 = \"Your API Key from data.go.kr\"\n",
    "api_key_decode = parse.unquote(api_key_utf8)\n"
   ]
  },
  {
   "cell_type": "code",
   "execution_count": 22,
   "id": "3f392a92",
   "metadata": {},
   "outputs": [],
   "source": [
    "params = {\n",
    "    \"ServiceKey\": api_key_decode,\n",
    "    \"pageNo\": 1,\n",
    "    \"numOfRows\": 5\n",
    "}\n"
   ]
  },
  {
   "cell_type": "code",
   "execution_count": 23,
   "id": "644aa5d5",
   "metadata": {},
   "outputs": [],
   "source": [
    "response = requests.get(url, params=params)"
   ]
  },
  {
   "cell_type": "code",
   "execution_count": 28,
   "id": "54b9f94c",
   "metadata": {},
   "outputs": [
    {
     "name": "stdout",
     "output_type": "stream",
     "text": [
      "<?xml version=\"1.0\" encoding=\"UTF-8\" standalone=\"yes\"?><response><header><resultCode>99</resultCode><resultMsg>SERVICE KEY IS NOT REGISTERED ERROR.</resultMsg></header></response>\n"
     ]
    }
   ],
   "source": [
    "print(response.text)"
   ]
  },
  {
   "cell_type": "code",
   "execution_count": 24,
   "id": "4ddd86d5",
   "metadata": {},
   "outputs": [],
   "source": [
    "import requests\n",
    "from urllib import parse\n",
    "import pandas as pd\n",
    "from bs4 import BeautifulSoup\n",
    "from datetime import datetime\n"
   ]
  },
  {
   "cell_type": "code",
   "execution_count": 25,
   "id": "93b9961e",
   "metadata": {},
   "outputs": [],
   "source": [
    "url = \"http://openapi.kepco.co.kr/service/EvInfoServiceV2/getEvSearchList\"\n",
    "api_key_utf8 = \"Your API Key from data.go.kr\"\n",
    "api_key_decode = parse.unquote(api_key_utf8)\n"
   ]
  },
  {
   "cell_type": "code",
   "execution_count": 26,
   "id": "8d82daf5",
   "metadata": {},
   "outputs": [],
   "source": [
    "params = {\n",
    "    \"ServiceKey\": api_key_decode,\n",
    "    \"pageNo\": 1,\n",
    "    \"numOfRows\": 5000\n",
    "}\n"
   ]
  },
  {
   "cell_type": "code",
   "execution_count": 27,
   "id": "824a2055",
   "metadata": {},
   "outputs": [],
   "source": [
    "import time\n",
    "import datetime"
   ]
  },
  {
   "cell_type": "code",
   "execution_count": 17,
   "id": "092decf8",
   "metadata": {},
   "outputs": [
    {
     "ename": "TypeError",
     "evalue": "'NoneType' object is not iterable",
     "output_type": "error",
     "traceback": [
      "\u001b[1;31m---------------------------------------------------------------------------\u001b[0m",
      "\u001b[1;31mTypeError\u001b[0m                                 Traceback (most recent call last)",
      "\u001b[1;32m~\\AppData\\Local\\Temp/ipykernel_18792/1501955346.py\u001b[0m in \u001b[0;36m<module>\u001b[1;34m\u001b[0m\n\u001b[0;32m      3\u001b[0m \u001b[0mitems\u001b[0m \u001b[1;33m=\u001b[0m \u001b[0mxml\u001b[0m\u001b[1;33m.\u001b[0m\u001b[0mfind\u001b[0m\u001b[1;33m(\u001b[0m\u001b[1;34m\"items\"\u001b[0m\u001b[1;33m)\u001b[0m\u001b[1;33m\u001b[0m\u001b[1;33m\u001b[0m\u001b[0m\n\u001b[0;32m      4\u001b[0m \u001b[0mitem_list\u001b[0m \u001b[1;33m=\u001b[0m \u001b[1;33m[\u001b[0m\u001b[1;33m]\u001b[0m\u001b[1;33m\u001b[0m\u001b[1;33m\u001b[0m\u001b[0m\n\u001b[1;32m----> 5\u001b[1;33m \u001b[1;32mfor\u001b[0m \u001b[0mitem\u001b[0m \u001b[1;32min\u001b[0m \u001b[0mitems\u001b[0m\u001b[1;33m:\u001b[0m\u001b[1;33m\u001b[0m\u001b[1;33m\u001b[0m\u001b[0m\n\u001b[0m\u001b[0;32m      6\u001b[0m     item_dict = {\n\u001b[0;32m      7\u001b[0m         \u001b[1;31m#'addr': item.find(\"addr\").text.strip(),\u001b[0m\u001b[1;33m\u001b[0m\u001b[1;33m\u001b[0m\u001b[0m\n",
      "\u001b[1;31mTypeError\u001b[0m: 'NoneType' object is not iterable"
     ]
    }
   ],
   "source": [
    "response = requests.get(url, params=params)\n",
    "xml = BeautifulSoup(response.text, \"lxml\")\n",
    "items = xml.find(\"items\")\n",
    "item_list = []\n",
    "for item in items:\n",
    "    item_dict = {\n",
    "        'addr': item.find(\"addr\").text.strip(),\n",
    "        'chargetp': int(item.find(\"chargetp\").text),\n",
    "        'cpid': int(item.find(\"cpid\").text),\n",
    "        'cpnm': item.find(\"cpnm\").text.strip(),\n",
    "        'cpstat': int(item.find(\"cpstat\").text),\n",
    "        'cptp': int(item.find(\"cptp\").text),\n",
    "        'csid': int(item.find(\"csid\").text),\n",
    "        'csnm': item.find(\"csnm\").text.strip(),\n",
    "        'lat': float(item.find(\"lat\").text),\n",
    "        'longi': float(item.find(\"longi\").text),\n",
    "        \"statupdatedatetime\": datetime.strptime(item.find(\"statupdatedatetime\").text.strip(), '%Y-%m-%d %H:%M:%S')\n",
    "    }\n",
    "    item_list.append(item_list)\n",
    "\n",
    "df=pd.DataFrame(item_list)"
   ]
  },
  {
   "cell_type": "code",
   "execution_count": null,
   "id": "ef06c247",
   "metadata": {},
   "outputs": [],
   "source": []
  }
 ],
 "metadata": {
  "kernelspec": {
   "display_name": "Python 3 (ipykernel)",
   "language": "python",
   "name": "python3"
  },
  "language_info": {
   "codemirror_mode": {
    "name": "ipython",
    "version": 3
   },
   "file_extension": ".py",
   "mimetype": "text/x-python",
   "name": "python",
   "nbconvert_exporter": "python",
   "pygments_lexer": "ipython3",
   "version": "3.9.7"
  }
 },
 "nbformat": 4,
 "nbformat_minor": 5
}
