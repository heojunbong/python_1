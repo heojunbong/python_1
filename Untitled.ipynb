{
 "cells": [
  {
   "cell_type": "code",
   "execution_count": null,
   "id": "a7955a0b",
   "metadata": {},
   "outputs": [
    {
     "name": "stdout",
     "output_type": "stream",
     "text": [
      "\n"
     ]
    },
    {
     "name": "stderr",
     "output_type": "stream",
     "text": [
      "[WDM] - ====== WebDriver manager ======\n",
      "[WDM] - Could not get version for google-chrome. Is google-chrome installed?\n",
      "[WDM] - Get LATEST chromedriver version for None google-chrome\n",
      "[WDM] - Driver [C:\\Users\\USER\\.wdm\\drivers\\chromedriver\\win32\\102.0.5005.61\\chromedriver.exe] found in cache\n",
      "C:\\Users\\USER\\AppData\\Local\\Temp/ipykernel_14632/1790847025.py:17: DeprecationWarning: executable_path has been deprecated, please pass in a Service object\n",
      "  driver = webdriver.Chrome(ChromeDriverManager().install(),\n",
      "C:\\Users\\USER\\AppData\\Local\\Temp/ipykernel_14632/1790847025.py:17: DeprecationWarning: use options instead of chrome_options\n",
      "  driver = webdriver.Chrome(ChromeDriverManager().install(),\n",
      "C:\\Users\\USER\\AppData\\Local\\Temp/ipykernel_14632/1790847025.py:25: DeprecationWarning: find_element_by_tag_name is deprecated. Please use find_element(by=By.TAG_NAME, value=name) instead\n",
      "  body = driver.find_element_by_tag_name('body')\n"
     ]
    }
   ],
   "source": [
    "# 모듈 import\n",
    "import pandas as pd\n",
    "from bs4 import BeautifulSoup\n",
    "from selenium import webdriver\n",
    "from webdriver_manager.chrome import ChromeDriverManager\n",
    "from tqdm import tqdm\n",
    "import time\n",
    "import re\n",
    "\n",
    "# 셀레니움 옵션 설정\n",
    "options = webdriver.ChromeOptions()\n",
    "# options.add_argument('headless') # 크롬 띄우는 창 없애기\n",
    "options.add_argument('window-size=1920x1080') # 크롬드라이버 창크기\n",
    "options.add_argument(\"disable-gpu\") #그래픽 성능 낮춰서 크롤링 성능 쪼금 높이기\n",
    "options.add_argument(\"user-agent=Mozilla/5.0 (Macintosh; Intel Mac OS X 10_12_6) AppleWebKit/537.36 (KHTML, like Gecko) Chrome/61.0.3163.100 Safari/537.36\") # 네트워크 설정\n",
    "options.add_argument(\"lang=ko_KR\") # 사이트 주언어\n",
    "driver = webdriver.Chrome(ChromeDriverManager().install(),\n",
    "    chrome_options=options)\n",
    "\n",
    "# 크롤링 목표 : 해당 영상에 대한 댓글 id, 댓글 내용, 댓글의 좋아요 개수, 날짜 추출\n",
    "data_list = []\n",
    "driver.get(\"https://www.youtube.com/watch?v=FMGhAbc9uyU&t=31s\")\n",
    "\n",
    "# 스크롤 내리기\n",
    "body = driver.find_element_by_tag_name('body')\n",
    "last_page_height = driver.execute_script(\"return document.documentElement.scrollHeight\")\n",
    "while True:\n",
    "    driver.execute_script(\"window.scrollTo(0, document.documentElement.scrollHeight);\")\n",
    "    time.sleep(2)\n",
    "    new_page_height = driver.execute_script(\"return document.documentElement.scrollHeight\")\n",
    "    if new_page_height == last_page_height:\n",
    "        break\n"
   ]
  },
  {
   "cell_type": "code",
   "execution_count": 3,
   "id": "c7317008",
   "metadata": {},
   "outputs": [
    {
     "name": "stdout",
     "output_type": "stream",
     "text": [
      "Collecting webdriver_manager\n",
      "  Downloading webdriver_manager-3.7.0-py2.py3-none-any.whl (25 kB)\n",
      "Requirement already satisfied: requests in c:\\users\\user\\anaconda3\\lib\\site-packages (from webdriver_manager) (2.26.0)\n",
      "Collecting python-dotenv\n",
      "  Downloading python_dotenv-0.20.0-py3-none-any.whl (17 kB)\n",
      "Requirement already satisfied: urllib3<1.27,>=1.21.1 in c:\\users\\user\\anaconda3\\lib\\site-packages (from requests->webdriver_manager) (1.26.7)\n",
      "Requirement already satisfied: certifi>=2017.4.17 in c:\\users\\user\\anaconda3\\lib\\site-packages (from requests->webdriver_manager) (2021.10.8)\n",
      "Requirement already satisfied: idna<4,>=2.5 in c:\\users\\user\\anaconda3\\lib\\site-packages (from requests->webdriver_manager) (3.2)\n",
      "Requirement already satisfied: charset-normalizer~=2.0.0 in c:\\users\\user\\anaconda3\\lib\\site-packages (from requests->webdriver_manager) (2.0.4)\n",
      "Installing collected packages: python-dotenv, webdriver_manager\n",
      "Successfully installed python-dotenv-0.20.0 webdriver_manager-3.7.0\n"
     ]
    }
   ],
   "source": [
    "!pip install webdriver_manager"
   ]
  },
  {
   "cell_type": "code",
   "execution_count": null,
   "id": "dac07f98",
   "metadata": {},
   "outputs": [],
   "source": [
    "# 숫자 값은 마음대로 설정 가능\n",
    "driver.execute_script(\"window.scrollTo(0,1000)\")"
   ]
  }
 ],
 "metadata": {
  "kernelspec": {
   "display_name": "Python 3 (ipykernel)",
   "language": "python",
   "name": "python3"
  },
  "language_info": {
   "codemirror_mode": {
    "name": "ipython",
    "version": 3
   },
   "file_extension": ".py",
   "mimetype": "text/x-python",
   "name": "python",
   "nbconvert_exporter": "python",
   "pygments_lexer": "ipython3",
   "version": "3.9.7"
  }
 },
 "nbformat": 4,
 "nbformat_minor": 5
}
